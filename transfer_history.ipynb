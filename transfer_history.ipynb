{
 "cells": [
  {
   "cell_type": "code",
   "execution_count": 10,
   "metadata": {},
   "outputs": [
    {
     "name": "stdout",
     "output_type": "stream",
     "text": [
      "Cumulative transactions up to 2021-02-28: $3094.93\n",
      "Cumulative transactions up to 2022-02-28: $10904.93\n",
      "Cumulative transactions up to 2023-02-28: $47654.93\n",
      "Cumulative transactions up to 2023-04-20: $49654.93\n"
     ]
    }
   ],
   "source": [
    "from functions.robinhood_connection import login\n",
    "from robin_stocks.robinhood.account import get_bank_transfers\n",
    "import datetime\n",
    "from typing import List, Dict\n",
    "login()\n",
    "\n",
    "def get_transfer_history():\n",
    "    # Get transfer history\n",
    "    transfer_history = get_bank_transfers()\n",
    "\n",
    "    # Filter deposits (transfers to Robinhood)\n",
    "    deposits = [transfer for transfer in transfer_history if transfer[\"direction\"] == \"deposit\"]\n",
    "\n",
    "    return deposits\n",
    "\n",
    "def cumulative_transactions(transaction_history: List[Dict], given_date: str) -> float:\n",
    "    given_date_dt = datetime.datetime.strptime(given_date, '%Y-%m-%d')\n",
    "    given_date_dt = given_date_dt.replace(tzinfo=None)  # Make given_date_dt offset-naive\n",
    "    \n",
    "    cumulative_amount = 0\n",
    "    for transaction in transaction_history:\n",
    "        transaction_date = datetime.datetime.strptime(transaction['created_at'], '%Y-%m-%dT%H:%M:%S.%f%z')\n",
    "        transaction_date = transaction_date.replace(tzinfo=None)  # Make transaction_date offset-naive\n",
    "        if transaction_date <= given_date_dt and transaction['direction'] == 'deposit' and transaction['state'] == 'completed':\n",
    "            cumulative_amount += float(transaction['amount'])\n",
    "    \n",
    "    return cumulative_amount\n",
    "\n",
    "transfer_history = get_transfer_history()\n",
    "\n",
    "given_date = '2021-02-28'\n",
    "cumulative_amount = cumulative_transactions(transfer_history, given_date)\n",
    "print(f\"Cumulative transactions up to {given_date}: ${cumulative_amount}\")\n",
    "\n",
    "given_date = '2022-02-28'\n",
    "cumulative_amount = cumulative_transactions(transfer_history, given_date)\n",
    "print(f\"Cumulative transactions up to {given_date}: ${cumulative_amount}\")\n",
    "\n",
    "given_date = '2023-02-28'\n",
    "cumulative_amount = cumulative_transactions(transfer_history, given_date)\n",
    "print(f\"Cumulative transactions up to {given_date}: ${cumulative_amount}\")\n",
    "\n",
    "given_date = '2023-04-20'\n",
    "cumulative_amount = cumulative_transactions(transfer_history, given_date)\n",
    "print(f\"Cumulative transactions up to {given_date}: ${cumulative_amount}\")"
   ]
  }
 ],
 "metadata": {
  "kernelspec": {
   "display_name": "venv",
   "language": "python",
   "name": "python3"
  },
  "language_info": {
   "codemirror_mode": {
    "name": "ipython",
    "version": 3
   },
   "file_extension": ".py",
   "mimetype": "text/x-python",
   "name": "python",
   "nbconvert_exporter": "python",
   "pygments_lexer": "ipython3",
   "version": "3.11.3"
  },
  "orig_nbformat": 4
 },
 "nbformat": 4,
 "nbformat_minor": 2
}
